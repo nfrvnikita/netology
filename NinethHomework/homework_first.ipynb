{
 "cells": [
  {
   "cell_type": "code",
   "execution_count": 35,
   "metadata": {
    "metadata": {}
   },
   "outputs": [],
   "source": [
    "import pandas as pd\n",
    "import numpy as np\n",
    "\n",
    "from sklearn.datasets import make_classification\n",
    "from sklearn.ensemble import RandomForestClassifier\n",
    "from sklearn.linear_model import LogisticRegression\n",
    "from sklearn.model_selection import cross_val_score\n",
    "from sklearn.feature_selection import (VarianceThreshold,\n",
    "                                       SelectKBest,\n",
    "                                       f_classif,\n",
    "                                       SelectFromModel,\n",
    "                                       SequentialFeatureSelector)"
   ]
  },
  {
   "cell_type": "markdown",
   "metadata": {},
   "source": [
    "### 1. Сгенерируйте данные."
   ]
  },
  {
   "cell_type": "code",
   "execution_count": 36,
   "metadata": {
    "metadata": {}
   },
   "outputs": [],
   "source": [
    "x_data_generated, y_data_generated = make_classification(scale=1)"
   ]
  },
  {
   "cell_type": "markdown",
   "metadata": {},
   "source": [
    "### 2. Постройте модель логистической регрессии и оцените среднюю точность."
   ]
  },
  {
   "cell_type": "code",
   "execution_count": 37,
   "metadata": {
    "metadata": {}
   },
   "outputs": [
    {
     "name": "stdout",
     "output_type": "stream",
     "text": [
      "Accuracy: 0.9099999999999999\n"
     ]
    }
   ],
   "source": [
    "initial_accuracy = cross_val_score(LogisticRegression(), x_data_generated, y_data_generated, scoring='accuracy').mean()\n",
    "print(f'Accuracy: {initial_accuracy}')"
   ]
  },
  {
   "cell_type": "markdown",
   "metadata": {},
   "source": [
    "### 3. Используйте статистические методы для отбора признаков:"
   ]
  },
  {
   "cell_type": "markdown",
   "metadata": {},
   "source": [
    "#### (a) Выберите признаки на основе матрицы корреляции."
   ]
  },
  {
   "cell_type": "code",
   "execution_count": 38,
   "metadata": {},
   "outputs": [],
   "source": [
    "data = pd.DataFrame(x_data_generated)\n",
    "data['target'] = y_data_generated\n",
    "correlation_matrix = data.corr()"
   ]
  },
  {
   "cell_type": "code",
   "execution_count": 39,
   "metadata": {},
   "outputs": [],
   "source": [
    "correlation_with_target = correlation_matrix['target'].abs().sort_values(ascending=False)\n",
    "selected_features_corr = correlation_with_target.index[1:11]\n",
    "x_corr_selected = data[selected_features_corr]"
   ]
  },
  {
   "cell_type": "code",
   "execution_count": 40,
   "metadata": {
    "metadata": {}
   },
   "outputs": [
    {
     "name": "stdout",
     "output_type": "stream",
     "text": [
      "Accuracy withou low corr featuress: 0.96\n"
     ]
    }
   ],
   "source": [
    "corr_accuracy = cross_val_score(LogisticRegression(), x_corr_selected, y_data_generated, scoring='accuracy').mean()\n",
    "print(f'Accuracy withou low corr featuress: {corr_accuracy}')"
   ]
  },
  {
   "cell_type": "markdown",
   "metadata": {},
   "source": [
    "#### (b) Отсеките низковариативные признаки (VarianceThreshold)."
   ]
  },
  {
   "cell_type": "code",
   "execution_count": 41,
   "metadata": {},
   "outputs": [],
   "source": [
    "selector = VarianceThreshold()\n",
    "x_var_threshold = selector.fit_transform(x_data_generated)"
   ]
  },
  {
   "cell_type": "markdown",
   "metadata": {},
   "source": [
    "#### (c) Повторите п. 2 на отобранных признаках в п. 3a, п. 3b."
   ]
  },
  {
   "cell_type": "code",
   "execution_count": 42,
   "metadata": {},
   "outputs": [
    {
     "name": "stdout",
     "output_type": "stream",
     "text": [
      "Accuracy with VarianceThreshold: 0.9099999999999999\n"
     ]
    }
   ],
   "source": [
    "var_threshold_accuracy = cross_val_score(LogisticRegression(), x_var_threshold, y_data_generated, scoring='accuracy').mean()\n",
    "print(f'Accuracy with VarianceThreshold: {var_threshold_accuracy}')"
   ]
  },
  {
   "cell_type": "markdown",
   "metadata": {},
   "source": [
    "### 4. Осуществите отбор признаков на основе дисперсионного анализа:"
   ]
  },
  {
   "cell_type": "markdown",
   "metadata": {},
   "source": [
    "#### (a) Выберите 5 лучших признаков с помощью скоринговой функции для классификации f_classif (SelectKBest(f_classif, k=5))."
   ]
  },
  {
   "cell_type": "code",
   "execution_count": 43,
   "metadata": {},
   "outputs": [],
   "source": [
    "selector = SelectKBest(f_classif, k=5)\n",
    "x_kbest = selector.fit_transform(x_data_generated, y_data_generated)"
   ]
  },
  {
   "cell_type": "markdown",
   "metadata": {},
   "source": [
    "#### (b) Повторите п. 2 на отобранных признаках."
   ]
  },
  {
   "cell_type": "code",
   "execution_count": 44,
   "metadata": {},
   "outputs": [
    {
     "name": "stdout",
     "output_type": "stream",
     "text": [
      "Accuracy with f_classif-selected features: 0.96\n"
     ]
    }
   ],
   "source": [
    "kbest_accuracy = cross_val_score(LogisticRegression(), x_kbest, y_data_generated, scoring='accuracy').mean()\n",
    "print(f'Accuracy with f_classif-selected features: {kbest_accuracy}')"
   ]
  },
  {
   "cell_type": "markdown",
   "metadata": {},
   "source": [
    "### 5. Отбор с использованием моделей:"
   ]
  },
  {
   "cell_type": "markdown",
   "metadata": {},
   "source": [
    "#### (a) Реализуйте отбор признаков с помощью логистической регрессии. Отобранные признаки подайте далее на вход в саму логистическую регрессию (SelectFromModel). Используйте L1 регуляризацию."
   ]
  },
  {
   "cell_type": "code",
   "execution_count": 45,
   "metadata": {},
   "outputs": [],
   "source": [
    "model = LogisticRegression(penalty='l1', solver='liblinear')\n",
    "selector = SelectFromModel(model)\n",
    "x_l1_selected = selector.fit_transform(x_data_generated, y_data_generated)"
   ]
  },
  {
   "cell_type": "markdown",
   "metadata": {},
   "source": [
    "#### (b) Реализуйте отбор признаков с помощью модели RandomForest и встроенного атрибута feature_impotance."
   ]
  },
  {
   "cell_type": "code",
   "execution_count": 46,
   "metadata": {},
   "outputs": [],
   "source": [
    "model = RandomForestClassifier()\n",
    "model.fit(x_data_generated, y_data_generated)\n",
    "importances = model.feature_importances_\n",
    "indices = np.argsort(importances)[-10:]"
   ]
  },
  {
   "cell_type": "code",
   "execution_count": 47,
   "metadata": {},
   "outputs": [],
   "source": [
    "x_rf_selected = x_data_generated[:, indices]"
   ]
  },
  {
   "cell_type": "markdown",
   "metadata": {},
   "source": [
    "#### (c) Повторите п. 2 на отобранных признаках в п. 5a, п. 5b."
   ]
  },
  {
   "cell_type": "code",
   "execution_count": 48,
   "metadata": {},
   "outputs": [
    {
     "name": "stdout",
     "output_type": "stream",
     "text": [
      "Accuracy with L1 regularization-selected features: 0.97\n"
     ]
    }
   ],
   "source": [
    "l1_accuracy = cross_val_score(LogisticRegression(), x_l1_selected, y_data_generated, scoring='accuracy').mean()\n",
    "print(f'Accuracy with L1 regularization-selected features: {l1_accuracy}')"
   ]
  },
  {
   "cell_type": "code",
   "execution_count": 49,
   "metadata": {},
   "outputs": [
    {
     "name": "stdout",
     "output_type": "stream",
     "text": [
      "Acuracy with RandomForest-selected features: 0.99\n"
     ]
    }
   ],
   "source": [
    "rf_accuracy = cross_val_score(LogisticRegression(), x_rf_selected, y_data_generated, scoring='accuracy').mean()\n",
    "print(f'Acuracy with RandomForest-selected features: {rf_accuracy}')"
   ]
  },
  {
   "cell_type": "markdown",
   "metadata": {},
   "source": [
    "### 6. Перебор признаков:"
   ]
  },
  {
   "cell_type": "markdown",
   "metadata": {},
   "source": [
    "#### (a) SequentialFeatureSelector."
   ]
  },
  {
   "cell_type": "code",
   "execution_count": 50,
   "metadata": {},
   "outputs": [],
   "source": [
    "model = LogisticRegression()\n",
    "sfs = SequentialFeatureSelector(model, n_features_to_select=10)\n",
    "x_sfs_selected = sfs.fit_transform(x_data_generated, y_data_generated)"
   ]
  },
  {
   "cell_type": "markdown",
   "metadata": {},
   "source": [
    "#### (b) Повторите п. 2 на отобранных признаках."
   ]
  },
  {
   "cell_type": "code",
   "execution_count": 51,
   "metadata": {},
   "outputs": [
    {
     "name": "stdout",
     "output_type": "stream",
     "text": [
      "Accuracy with SequentialFeatureSelector-selected features: 0.99\n"
     ]
    }
   ],
   "source": [
    "sfs_accuracy = cross_val_score(LogisticRegression(), x_sfs_selected, y_data_generated, scoring='accuracy').mean()\n",
    "print(f'Accuracy with SequentialFeatureSelector-selected features: {sfs_accuracy}')"
   ]
  },
  {
   "cell_type": "markdown",
   "metadata": {},
   "source": [
    "### 7. Сформулируйте выводы по проделанной работе:"
   ]
  },
  {
   "cell_type": "markdown",
   "metadata": {},
   "source": [
    "#### (a) Сделайте таблицу вида |способ выбора признаков|количество признаков|средняя точность модели|."
   ]
  },
  {
   "cell_type": "code",
   "execution_count": 52,
   "metadata": {},
   "outputs": [],
   "source": [
    "results = pd.DataFrame({\n",
    "    'Способ отбора признаков': [\n",
    "        'Исходные признаки',\n",
    "        'Матрица корреляции',\n",
    "        'VarianceThreshold',\n",
    "        'f_classif',\n",
    "        'L1 регуляризация',\n",
    "        'RandomForest',\n",
    "        'SequentialFeatureSelector'\n",
    "    ],\n",
    "    'Кол-во признаков': [\n",
    "        x_data_generated.shape[1],\n",
    "        x_corr_selected.shape[1],\n",
    "        x_var_threshold.shape[1],\n",
    "        x_kbest.shape[1],\n",
    "        x_l1_selected.shape[1],\n",
    "        x_rf_selected.shape[1],\n",
    "        x_sfs_selected.shape[1]\n",
    "    ],\n",
    "    'Средняя accuracy': [\n",
    "        initial_accuracy,\n",
    "        corr_accuracy,\n",
    "        var_threshold_accuracy,\n",
    "        kbest_accuracy,\n",
    "        l1_accuracy,\n",
    "        rf_accuracy,\n",
    "        sfs_accuracy\n",
    "    ]\n",
    "})"
   ]
  },
  {
   "cell_type": "code",
   "execution_count": 53,
   "metadata": {},
   "outputs": [
    {
     "data": {
      "text/html": [
       "<div>\n",
       "<style scoped>\n",
       "    .dataframe tbody tr th:only-of-type {\n",
       "        vertical-align: middle;\n",
       "    }\n",
       "\n",
       "    .dataframe tbody tr th {\n",
       "        vertical-align: top;\n",
       "    }\n",
       "\n",
       "    .dataframe thead th {\n",
       "        text-align: right;\n",
       "    }\n",
       "</style>\n",
       "<table border=\"1\" class=\"dataframe\">\n",
       "  <thead>\n",
       "    <tr style=\"text-align: right;\">\n",
       "      <th></th>\n",
       "      <th>Способ отбора признаков</th>\n",
       "      <th>Кол-во признаков</th>\n",
       "      <th>Средняя accuracy</th>\n",
       "    </tr>\n",
       "  </thead>\n",
       "  <tbody>\n",
       "    <tr>\n",
       "      <th>5</th>\n",
       "      <td>RandomForest</td>\n",
       "      <td>10</td>\n",
       "      <td>0.99</td>\n",
       "    </tr>\n",
       "    <tr>\n",
       "      <th>6</th>\n",
       "      <td>SequentialFeatureSelector</td>\n",
       "      <td>10</td>\n",
       "      <td>0.99</td>\n",
       "    </tr>\n",
       "    <tr>\n",
       "      <th>4</th>\n",
       "      <td>L1 регуляризация</td>\n",
       "      <td>10</td>\n",
       "      <td>0.97</td>\n",
       "    </tr>\n",
       "    <tr>\n",
       "      <th>1</th>\n",
       "      <td>Матрица корреляции</td>\n",
       "      <td>10</td>\n",
       "      <td>0.96</td>\n",
       "    </tr>\n",
       "    <tr>\n",
       "      <th>3</th>\n",
       "      <td>f_classif</td>\n",
       "      <td>5</td>\n",
       "      <td>0.96</td>\n",
       "    </tr>\n",
       "    <tr>\n",
       "      <th>0</th>\n",
       "      <td>Исходные признаки</td>\n",
       "      <td>20</td>\n",
       "      <td>0.91</td>\n",
       "    </tr>\n",
       "    <tr>\n",
       "      <th>2</th>\n",
       "      <td>VarianceThreshold</td>\n",
       "      <td>20</td>\n",
       "      <td>0.91</td>\n",
       "    </tr>\n",
       "  </tbody>\n",
       "</table>\n",
       "</div>"
      ],
      "text/plain": [
       "     Способ отбора признаков  Кол-во признаков  Средняя accuracy\n",
       "5               RandomForest                10              0.99\n",
       "6  SequentialFeatureSelector                10              0.99\n",
       "4           L1 регуляризация                10              0.97\n",
       "1         Матрица корреляции                10              0.96\n",
       "3                  f_classif                 5              0.96\n",
       "0          Исходные признаки                20              0.91\n",
       "2          VarianceThreshold                20              0.91"
      ]
     },
     "execution_count": 53,
     "metadata": {},
     "output_type": "execute_result"
    }
   ],
   "source": [
    "results.sort_values(by='Средняя accuracy', ascending=False)"
   ]
  },
  {
   "cell_type": "code",
   "execution_count": null,
   "metadata": {},
   "outputs": [],
   "source": []
  }
 ],
 "metadata": {
  "kernelspec": {
   "display_name": ".venv",
   "language": "python",
   "name": "python3"
  },
  "language_info": {
   "codemirror_mode": {
    "name": "ipython",
    "version": 3
   },
   "file_extension": ".py",
   "mimetype": "text/x-python",
   "name": "python",
   "nbconvert_exporter": "python",
   "pygments_lexer": "ipython3",
   "version": "3.11.5"
  }
 },
 "nbformat": 4,
 "nbformat_minor": 2
}
