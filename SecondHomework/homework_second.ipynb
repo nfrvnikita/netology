{
 "cells": [
  {
   "cell_type": "code",
   "execution_count": 1,
   "metadata": {},
   "outputs": [],
   "source": [
    "import time\n",
    "import pandas as pd\n",
    "import numpy as np\n",
    "import typing as tp\n",
    "\n",
    "from sklearn.datasets import load_iris\n",
    "from sklearn.model_selection import train_test_split\n",
    "from sklearn.metrics import accuracy_score\n",
    "from sklearn.preprocessing import StandardScaler"
   ]
  },
  {
   "cell_type": "code",
   "execution_count": 2,
   "metadata": {},
   "outputs": [],
   "source": [
    "iris = load_iris()"
   ]
  },
  {
   "cell_type": "code",
   "execution_count": 3,
   "metadata": {},
   "outputs": [],
   "source": [
    "X = iris.data[(iris.target == 1) | (iris.target == 2)]\n",
    "y = (iris.target[(iris.target == 1) | (iris.target == 2)] == 2).astype(int)\n",
    "\n",
    "X_train, X_test, y_train, y_test = train_test_split(X, y, test_size=0.2, stratify=y)"
   ]
  },
  {
   "cell_type": "code",
   "execution_count": 4,
   "metadata": {},
   "outputs": [],
   "source": [
    "scaler = StandardScaler()\n",
    "X_train = scaler.fit_transform(X_train)\n",
    "X_test = scaler.fit_transform(X_test)"
   ]
  },
  {
   "cell_type": "code",
   "execution_count": 5,
   "metadata": {},
   "outputs": [],
   "source": [
    "class MyLogisticRegression:\n",
    "    \"\"\"Классификатор логистической регрессии с настраиваемыми методами оптимизации.\n",
    "    Args:\n",
    "    max_iter : int, default=1000\n",
    "        Максимальное количество итераций для оптимизации.\n",
    "    learning_rate : float, default=0.01\n",
    "        Скорость обучения для оптимизации градиентного спуска.\n",
    "    optimizer : str, default='gd'\n",
    "        Метод оптимизации.\n",
    "        Доступные варианты:\n",
    "        - 'gd' (градиентный спуск),\n",
    "        - 'rmsprop' (RMSProp),\n",
    "        - 'nadam' (Нестеров-Адам).\n",
    "    momentum : float, default=0.9\n",
    "        Параметр момента для оптимизации по моменту Нестерова.\n",
    "    beta : float, default=0.9\n",
    "        Параметр бета для оптимизации RMSProp.\n",
    "    epsilon : float, default=1e-8\n",
    "        Параметр эпсилон, чтобы избежать деления на ноль при оптимизации RMSProp.\n",
    "    threshold : float, default=0.5\n",
    "        Порог для предсказания класса. Значения выше порога\n",
    "        предсказываются как 1, в противном случае - как 0.\n",
    "    random_state : int, default=None\n",
    "        Случайная затравка для воспроизводимости.\n",
    "    \"\"\"\n",
    "    def __init__(self,\n",
    "                 max_iter: int = 1000,\n",
    "                 learning_rate: float = 0.01,\n",
    "                 optimizer: str = 'gd',\n",
    "                 momentum: float = 0.9,\n",
    "                 beta: float = 0.9,\n",
    "                 epsilon: float = 1e-8,\n",
    "                 threshold: float = 0.5,\n",
    "                 random_state: int = None) -> None:\n",
    "        self.max_iter = max_iter\n",
    "        self.learning_rate = learning_rate\n",
    "        self.optimizer = optimizer\n",
    "        self.random_state = random_state\n",
    "        self.momentum = momentum\n",
    "        self.beta = beta\n",
    "        self.epsilon = epsilon\n",
    "        self.threshold = threshold\n",
    "        self.weights = None\n",
    "    \n",
    "    def _sigmoid(self, z: np.ndarray) -> np.ndarray:\n",
    "        return 1 / (1 + np.exp(-z))\n",
    "    \n",
    "    def _compute_gradient(self, X: np.ndarray, y: np.ndarray) -> np.ndarray:\n",
    "        m = X.shape[0]\n",
    "        y_pred = self._sigmoid(np.dot(X, self.weights))\n",
    "        gradient = np.dot(X.T, (y_pred - y)) / m\n",
    "        return gradient\n",
    "\n",
    "    def _gradient_descent(self, X: np.ndarray, y: np.ndarray) -> None:\n",
    "        for _ in range(self.max_iter):\n",
    "            gradient = self._compute_gradient(X, y)\n",
    "            self.weights -= self.learning_rate * gradient\n",
    "\n",
    "    def _rmsprop(self, X: np.ndarray, y: np.ndarray) -> None:\n",
    "        E_grad_squared = np.zeros_like(self.weights)\n",
    "        for _ in range(self.max_iter):\n",
    "            gradient = self._compute_gradient(X, y)\n",
    "            E_grad_squared = self.beta * E_grad_squared + (1 - self.beta) * np.square(gradient)\n",
    "            self.weights -= (self.learning_rate / np.sqrt(E_grad_squared + self.epsilon)) * gradient\n",
    "\n",
    "    def _nesterov_mometum(self, X: np.ndarray, y: np.ndarray) -> None:\n",
    "        velocity = np.zeros_like(self.weights)\n",
    "        for _ in range(self.max_iter):\n",
    "            gradient = self._compute_gradient(X, y)\n",
    "            velocity = self.momentum * velocity + self.learning_rate * gradient\n",
    "            self.weights -= velocity\n",
    "\n",
    "    def fit(self, X: np.ndarray, y: np.ndarray) -> None:\n",
    "        X = np.hstack((np.ones((X.shape[0], 1)), X))\n",
    "        num_features = X.shape[1]\n",
    "        self.weights = np.zeros(num_features)\n",
    "        \n",
    "        if self.optimizer == 'gd':\n",
    "            self._gradient_descent(X, y)\n",
    "        elif self.optimizer == 'rmsprop':\n",
    "            self._rmsprop(X, y)\n",
    "        elif self.optimizer == 'nadam':\n",
    "            self._nesterov_mometum(X, y)\n",
    "        else:\n",
    "            raise ValueError('Unknown optimizer. Please, select \"rmsprop\", \"gd\" or \"nadam\"')\n",
    "    \n",
    "    def predict(self, X: np.ndarray) -> np.ndarray:\n",
    "        X = np.hstack((np.ones((X.shape[0], 1)), X))\n",
    "        y_pred = self._sigmoid(np.dot(X, self.weights))\n",
    "        return (y_pred >= self.threshold).astype(int)"
   ]
  },
  {
   "cell_type": "code",
   "execution_count": 6,
   "metadata": {},
   "outputs": [],
   "source": [
    "model = MyLogisticRegression(optimizer='nadam')\n",
    "model.fit(X_train, y_train)"
   ]
  },
  {
   "cell_type": "code",
   "execution_count": 7,
   "metadata": {},
   "outputs": [],
   "source": [
    "predictions = model.predict(X_test)"
   ]
  },
  {
   "cell_type": "code",
   "execution_count": 8,
   "metadata": {},
   "outputs": [
    {
     "data": {
      "text/plain": [
       "1.0"
      ]
     },
     "execution_count": 8,
     "metadata": {},
     "output_type": "execute_result"
    }
   ],
   "source": [
    "accuracy_score(y_test, predictions)"
   ]
  },
  {
   "cell_type": "code",
   "execution_count": 9,
   "metadata": {},
   "outputs": [],
   "source": [
    "def train_and_evaluate(optimizer: str) -> tp.Dict:\n",
    "    \"\"\"Функция для создания таблицы с результатами работы логистической регресси\n",
    "    и разными методами оптимизации. \n",
    "\n",
    "    Args:\n",
    "        optimizer (str): метод оптимизации\n",
    "\n",
    "    Returns:\n",
    "        tp.Dict: словарь со следующими ключами: метод, метрика и время работы.\n",
    "    \"\"\"\n",
    "    start_time = time.time()\n",
    "    model = MyLogisticRegression(optimizer=optimizer)\n",
    "    model.fit(X_train, y_train)\n",
    "    y_pred = model.predict(X_test)\n",
    "    accuracy = accuracy_score(y_test, y_pred)\n",
    "    end_time = time.time()\n",
    "    execution_time = end_time - start_time\n",
    "    return {'Метод': optimizer, 'Метрика': accuracy, 'Время работы': execution_time}\n",
    "\n",
    "\n",
    "optimizers = ['gd', 'rmsprop', 'nadam']\n",
    "\n",
    "results = []\n",
    "for optimizer in optimizers:\n",
    "    result = train_and_evaluate(optimizer)\n",
    "    results.append(result)\n",
    "\n",
    "df = pd.DataFrame(results)"
   ]
  },
  {
   "cell_type": "code",
   "execution_count": 10,
   "metadata": {},
   "outputs": [
    {
     "data": {
      "text/html": [
       "<div>\n",
       "<style scoped>\n",
       "    .dataframe tbody tr th:only-of-type {\n",
       "        vertical-align: middle;\n",
       "    }\n",
       "\n",
       "    .dataframe tbody tr th {\n",
       "        vertical-align: top;\n",
       "    }\n",
       "\n",
       "    .dataframe thead th {\n",
       "        text-align: right;\n",
       "    }\n",
       "</style>\n",
       "<table border=\"1\" class=\"dataframe\">\n",
       "  <thead>\n",
       "    <tr style=\"text-align: right;\">\n",
       "      <th></th>\n",
       "      <th>Метод</th>\n",
       "      <th>Метрика</th>\n",
       "      <th>Время работы</th>\n",
       "    </tr>\n",
       "  </thead>\n",
       "  <tbody>\n",
       "    <tr>\n",
       "      <th>0</th>\n",
       "      <td>gd</td>\n",
       "      <td>0.95</td>\n",
       "      <td>0.009771</td>\n",
       "    </tr>\n",
       "    <tr>\n",
       "      <th>1</th>\n",
       "      <td>rmsprop</td>\n",
       "      <td>1.00</td>\n",
       "      <td>0.007861</td>\n",
       "    </tr>\n",
       "    <tr>\n",
       "      <th>2</th>\n",
       "      <td>nadam</td>\n",
       "      <td>1.00</td>\n",
       "      <td>0.006759</td>\n",
       "    </tr>\n",
       "  </tbody>\n",
       "</table>\n",
       "</div>"
      ],
      "text/plain": [
       "     Метод  Метрика  Время работы\n",
       "0       gd     0.95      0.009771\n",
       "1  rmsprop     1.00      0.007861\n",
       "2    nadam     1.00      0.006759"
      ]
     },
     "execution_count": 10,
     "metadata": {},
     "output_type": "execute_result"
    }
   ],
   "source": [
    "df.head()"
   ]
  },
  {
   "cell_type": "code",
   "execution_count": null,
   "metadata": {},
   "outputs": [],
   "source": []
  }
 ],
 "metadata": {
  "kernelspec": {
   "display_name": ".venv",
   "language": "python",
   "name": "python3"
  },
  "language_info": {
   "codemirror_mode": {
    "name": "ipython",
    "version": 3
   },
   "file_extension": ".py",
   "mimetype": "text/x-python",
   "name": "python",
   "nbconvert_exporter": "python",
   "pygments_lexer": "ipython3",
   "version": "3.11.5"
  }
 },
 "nbformat": 4,
 "nbformat_minor": 2
}
